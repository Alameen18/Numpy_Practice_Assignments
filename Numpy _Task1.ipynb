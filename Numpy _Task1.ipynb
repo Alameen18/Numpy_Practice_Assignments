{
 "cells": [
  {
   "cell_type": "markdown",
   "metadata": {},
   "source": [
    "# Reading Recipes \n",
    "\n",
    "Note: Data file is recipes.csv Attached with jupyter notebook"
   ]
  },
  {
   "cell_type": "raw",
   "metadata": {},
   "source": [
    "1. Start by importing NumPy as np"
   ]
  },
  {
   "cell_type": "code",
   "execution_count": 2,
   "metadata": {},
   "outputs": [],
   "source": [
    "#type your code here\n",
    "import numpy as np"
   ]
  },
  {
   "cell_type": "markdown",
   "metadata": {},
   "source": [
    "2. All of Alize’s recipes call for milk, eggs, sugar, flour, and butter. For example, her cupcake recipe calls for:\n",
    "\n",
    "Flour Sugar Eggs Milk Butter 2 cups 0.75 cups 2 eggs 1 cups 0.5 cups Create a NumPy array that represents this data. Each element should be a number (i.e., 2 for “2 cups”). Save this array as cupcakes."
   ]
  },
  {
   "cell_type": "code",
   "execution_count": 4,
   "metadata": {},
   "outputs": [],
   "source": [
    "#type your code here\n",
    "#recipes = np.array(['Floor','Sugar','Eggs','Milks','Butter'])\n",
    "cupcake = np.array([2, 0.75, 2, 1, 0.5])"
   ]
  },
  {
   "cell_type": "markdown",
   "metadata": {},
   "source": [
    "3. Alize’s assistant has compiled all of her recipes into a csv (comma-separated variable) file called recipes.csv. Load this file into a variable called recipes.\n",
    "\n",
    "###########Explore yourselves how to load a csv file in numpy#######"
   ]
  },
  {
   "cell_type": "code",
   "execution_count": 17,
   "metadata": {},
   "outputs": [
    {
     "data": {
      "text/plain": [
       "array([['2', '0.75', '2', '1', '0.5'],\n",
       "       ['1', '0.125', '1', '1', '0.125'],\n",
       "       ['2.75', '1.5', '1', '0', '1'],\n",
       "       ['4', '0.5', '2', '2', '0.5']], dtype='<U5')"
      ]
     },
     "execution_count": 17,
     "metadata": {},
     "output_type": "execute_result"
    }
   ],
   "source": [
    "#type your code here\n",
    "receipes = np.genfromtxt('recipes.csv', delimiter=\",\",dtype=str)"
   ]
  },
  {
   "cell_type": "raw",
   "metadata": {},
   "source": [
    "4.Display recipes using print. Display recipes using print.\n",
    "\n",
    "Each row represents a different recipe. Each column represents a different ingredient.\n",
    "\n",
    "Recipe Cups of Flour Cups of Sugar Eggs Cups of Milk Cups of Butter\n",
    "\n",
    "Cupcakes … … … … …\n",
    "\n",
    "Pancake … … … … …\n",
    "\n",
    "Cookie … … … … …\n",
    "\n",
    "Bread … … … … …"
   ]
  },
  {
   "cell_type": "code",
   "execution_count": 22,
   "metadata": {},
   "outputs": [
    {
     "name": "stdout",
     "output_type": "stream",
     "text": [
      "[['2' '0.75' '2' '1' '0.5']\n",
      " ['1' '0.125' '1' '1' '0.125']\n",
      " ['2.75' '1.5' '1' '0' '1']\n",
      " ['4' '0.5' '2' '2' '0.5']]\n",
      "Recipe    Cups_of_Sugar  Eggs           Cups_of_Milk   Butter         \n"
     ]
    },
    {
     "ename": "NameError",
     "evalue": "name 'recipe_names' is not defined",
     "output_type": "error",
     "traceback": [
      "\u001b[1;31m---------------------------------------------------------------------------\u001b[0m",
      "\u001b[1;31mNameError\u001b[0m                                 Traceback (most recent call last)",
      "\u001b[1;32m<ipython-input-22-093654eaf9b9>\u001b[0m in \u001b[0;36m<module>\u001b[1;34m\u001b[0m\n\u001b[0;32m      8\u001b[0m \u001b[0mprint\u001b[0m\u001b[1;33m(\u001b[0m\u001b[1;33m)\u001b[0m  \u001b[1;31m# Move to the next line\u001b[0m\u001b[1;33m\u001b[0m\u001b[1;33m\u001b[0m\u001b[0m\n\u001b[0;32m      9\u001b[0m \u001b[1;33m\u001b[0m\u001b[0m\n\u001b[1;32m---> 10\u001b[1;33m \u001b[1;32mfor\u001b[0m \u001b[0mi\u001b[0m\u001b[1;33m,\u001b[0m \u001b[0mrecipe\u001b[0m \u001b[1;32min\u001b[0m \u001b[0menumerate\u001b[0m\u001b[1;33m(\u001b[0m\u001b[0mrecipe_names\u001b[0m\u001b[1;33m)\u001b[0m\u001b[1;33m:\u001b[0m\u001b[1;33m\u001b[0m\u001b[1;33m\u001b[0m\u001b[0m\n\u001b[0m\u001b[0;32m     11\u001b[0m     \u001b[0mprint\u001b[0m\u001b[1;33m(\u001b[0m\u001b[1;34mf\"{recipe:<10}\"\u001b[0m\u001b[1;33m,\u001b[0m \u001b[0mend\u001b[0m\u001b[1;33m=\u001b[0m\u001b[1;34m\"\"\u001b[0m\u001b[1;33m)\u001b[0m\u001b[1;33m\u001b[0m\u001b[1;33m\u001b[0m\u001b[0m\n\u001b[0;32m     12\u001b[0m     \u001b[1;32mfor\u001b[0m \u001b[0mvalue\u001b[0m \u001b[1;32min\u001b[0m \u001b[0mrecipes\u001b[0m\u001b[1;33m[\u001b[0m\u001b[0mi\u001b[0m\u001b[1;33m]\u001b[0m\u001b[1;33m:\u001b[0m\u001b[1;33m\u001b[0m\u001b[1;33m\u001b[0m\u001b[0m\n",
      "\u001b[1;31mNameError\u001b[0m: name 'recipe_names' is not defined"
     ]
    }
   ],
   "source": [
    "#type your code here\n",
    "print(receipes)\n",
    "recipe_ingredient = ['Cups_of_Sugar', 'Eggs', 'Cups_of_Milk', 'Butter']\n",
    "recipe_name = ['Cupcakes', 'Pancake', 'Cookie', 'Bread']\n",
    "print(f\"{'Recipe':<10}\", end=\"\")\n",
    "for label in recipe_ingredient:\n",
    "    print(f\"{label:<15}\", end=\"\")\n",
    "print()  # Move to the next line\n",
    "\n",
    "for i, recipe in enumerate(recipe_names):\n",
    "    print(f\"{recipe:<10}\", end=\"\")\n",
    "    for value in recipes[i]:\n",
    "        print(f\"{value:<15}\", end=\"\")\n",
    "    print()  "
   ]
  },
  {
   "cell_type": "markdown",
   "metadata": {},
   "source": [
    "5.The 3rd column represents the number of eggs that each recipe needs.\n",
    "\n",
    "Select all elements from the 3rd column and save them to the variable eggs."
   ]
  },
  {
   "cell_type": "code",
   "execution_count": 15,
   "metadata": {},
   "outputs": [
    {
     "data": {
      "text/plain": [
       "'Eggs'"
      ]
     },
     "execution_count": 15,
     "metadata": {},
     "output_type": "execute_result"
    }
   ],
   "source": [
    "#type your code here\n",
    "recipes[2]"
   ]
  },
  {
   "cell_type": "markdown",
   "metadata": {},
   "source": [
    "6.Which recipes require exactly 1 egg? Use a logical statement to get True or False for each value of eggs."
   ]
  },
  {
   "cell_type": "code",
   "execution_count": 11,
   "metadata": {},
   "outputs": [],
   "source": [
    "#type your code here\n"
   ]
  },
  {
   "cell_type": "markdown",
   "metadata": {},
   "source": [
    "7.Alize is going to make 2 batches of cupcakes (1st row) and 1 batch of cookies (3rd row).\n",
    "\n",
    "You already have a variable for cupcakes. Create a variable for cookies with the data from the 3rd row.\n"
   ]
  },
  {
   "cell_type": "code",
   "execution_count": 12,
   "metadata": {},
   "outputs": [],
   "source": [
    "#type your code here\n"
   ]
  },
  {
   "cell_type": "markdown",
   "metadata": {},
   "source": [
    "8.\n",
    "Get the number of ingredients for a double batch of cupcakes by using multiplication on cupcakes. Save your new variable to double_batch."
   ]
  },
  {
   "cell_type": "code",
   "execution_count": null,
   "metadata": {},
   "outputs": [],
   "source": [
    "#type your code here\n"
   ]
  },
  {
   "cell_type": "markdown",
   "metadata": {},
   "source": [
    "9.\n",
    "Create a new variable called grocery_list by adding cookies and double_batch."
   ]
  },
  {
   "cell_type": "code",
   "execution_count": null,
   "metadata": {},
   "outputs": [],
   "source": [
    "#type your code here\n"
   ]
  },
  {
   "cell_type": "code",
   "execution_count": null,
   "metadata": {},
   "outputs": [],
   "source": []
  }
 ],
 "metadata": {
  "kernelspec": {
   "display_name": "Python 3 (ipykernel)",
   "language": "python",
   "name": "python3"
  },
  "language_info": {
   "codemirror_mode": {
    "name": "ipython",
    "version": 3
   },
   "file_extension": ".py",
   "mimetype": "text/x-python",
   "name": "python",
   "nbconvert_exporter": "python",
   "pygments_lexer": "ipython3",
   "version": "3.11.5"
  }
 },
 "nbformat": 4,
 "nbformat_minor": 2
}
